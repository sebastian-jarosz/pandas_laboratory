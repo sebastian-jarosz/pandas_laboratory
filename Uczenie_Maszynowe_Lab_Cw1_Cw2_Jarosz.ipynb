{
  "nbformat": 4,
  "nbformat_minor": 0,
  "metadata": {
    "colab": {
      "name": "Uczenie Maszynowe Lab Cw1_Cw2 Jarosz.ipynb",
      "provenance": [],
      "authorship_tag": "ABX9TyMRG610DM66L8uA56OLKjIb",
      "include_colab_link": true
    },
    "kernelspec": {
      "name": "python3",
      "display_name": "Python 3"
    },
    "language_info": {
      "name": "python"
    }
  },
  "cells": [
    {
      "cell_type": "markdown",
      "metadata": {
        "id": "view-in-github",
        "colab_type": "text"
      },
      "source": [
        "<a href=\"https://colab.research.google.com/github/sebastian-jarosz/pandas_laboratory/blob/main/Uczenie_Maszynowe_Lab_Cw1_Cw2_Jarosz.ipynb\" target=\"_parent\"><img src=\"https://colab.research.google.com/assets/colab-badge.svg\" alt=\"Open In Colab\"/></a>"
      ]
    },
    {
      "cell_type": "code",
      "execution_count": 15,
      "metadata": {
        "colab": {
          "base_uri": "https://localhost:8080/"
        },
        "id": "0jdzzxHA9kti",
        "outputId": "dfa9cc6c-673c-42bb-b487-a0a44a5e2cf2"
      },
      "outputs": [
        {
          "output_type": "stream",
          "name": "stdout",
          "text": [
            "[[0.32923204]\n",
            " [0.5230524 ]\n",
            " [0.70914215]\n",
            " [0.5625702 ]]\n"
          ]
        }
      ],
      "source": [
        "from keras.models import Sequential\n",
        "from keras.layers import *\n",
        "import numpy as np\n",
        "tf.Variable\n",
        "\n",
        "m = Sequential()\n",
        "m.add(Dense(2,input_dim=2, activation='tanh'))\n",
        "m.add(Dense(12,input_dim=2, activation='tanh'))\n",
        "#m.add(Activation('tanh'))\n",
        "\n",
        "m.add(Dense(1,activation='sigmoid'))\n",
        "\n",
        "#m.add(Activation('sigmoid'))\n",
        "\n",
        "#XOR\n",
        "X = np.array([[0,0],[0,1],[1,0],[1,1]],'float32')\n",
        "Y = np.array([[0],[1],[1],[0]],'float32')\n",
        "\n",
        "m.compile(optimizer='adam',loss='binary_crossentropy')\n",
        "m.fit(X,Y,batch_size=1,epochs=200,verbose=0)\n",
        "print(m.predict(X))"
      ]
    },
    {
      "cell_type": "code",
      "source": [
        "m = Sequential()\n",
        "m.add(Dense(2,input_dim=2, activation='tanh'))\n",
        "m.add(Dense(12,input_dim=2, activation='tanh'))\n",
        "\n",
        "m.add(Dense(1,activation='sigmoid'))\n",
        "\n",
        "#OR\n",
        "X = np.array([[0,0],[0,1],[1,0],[1,1]],'float32')\n",
        "Y = np.array([[0],[1],[1],[1]],'float32')\n",
        "\n",
        "m.compile(optimizer='adam',loss='binary_crossentropy')\n",
        "m.fit(X,Y,batch_size=1,epochs=200,verbose=0)\n",
        "print(m.predict(X))"
      ],
      "metadata": {
        "colab": {
          "base_uri": "https://localhost:8080/"
        },
        "id": "aj-JJC5BlRGw",
        "outputId": "03d4418f-676c-4144-8ac3-af43ff43c904"
      },
      "execution_count": 16,
      "outputs": [
        {
          "output_type": "stream",
          "name": "stdout",
          "text": [
            "[[0.26265013]\n",
            " [0.9331873 ]\n",
            " [0.91034114]\n",
            " [0.9788458 ]]\n"
          ]
        }
      ]
    },
    {
      "cell_type": "code",
      "source": [
        "m = Sequential()\n",
        "m.add(Dense(2,input_dim=2, activation='tanh'))\n",
        "m.add(Dense(12,input_dim=2, activation='tanh'))\n",
        "\n",
        "m.add(Dense(1,activation='sigmoid'))\n",
        "\n",
        "#NOR\n",
        "X = np.array([[0,0],[0,1],[1,0],[1,1]],'float32')\n",
        "Y = np.array([[1],[0],[0],[0]],'float32')\n",
        "\n",
        "m.compile(optimizer='adam',loss='binary_crossentropy')\n",
        "m.fit(X,Y,batch_size=1,epochs=200,verbose=0)\n",
        "print(m.predict(X))"
      ],
      "metadata": {
        "colab": {
          "base_uri": "https://localhost:8080/"
        },
        "id": "eiDYsIcdmEvu",
        "outputId": "7f1742bd-cb30-4ee4-f178-f5c161405700"
      },
      "execution_count": 17,
      "outputs": [
        {
          "output_type": "stream",
          "name": "stdout",
          "text": [
            "[[0.32966387]\n",
            " [0.43171003]\n",
            " [0.11717495]\n",
            " [0.13074887]]\n"
          ]
        }
      ]
    },
    {
      "cell_type": "code",
      "source": [
        "m = Sequential()\n",
        "m.add(Dense(2,input_dim=2, activation='tanh'))\n",
        "m.add(Dense(12,input_dim=2, activation='tanh'))\n",
        "\n",
        "m.add(Dense(1,activation='sigmoid'))\n",
        "\n",
        "#AND\n",
        "X = np.array([[0,0],[0,1],[1,0],[1,1]],'float32')\n",
        "Y = np.array([[0],[0],[0],[1]],'float32')\n",
        "\n",
        "m.compile(optimizer='adam',loss='binary_crossentropy')\n",
        "m.fit(X,Y,batch_size=1,epochs=200,verbose=0)\n",
        "print(m.predict(X))"
      ],
      "metadata": {
        "colab": {
          "base_uri": "https://localhost:8080/"
        },
        "id": "oMpy8J-6l7so",
        "outputId": "f88ca1e8-51fd-4cde-88fc-48056f437c93"
      },
      "execution_count": 18,
      "outputs": [
        {
          "output_type": "stream",
          "name": "stdout",
          "text": [
            "[[0.02731916]\n",
            " [0.16957343]\n",
            " [0.22267503]\n",
            " [0.68830115]]\n"
          ]
        }
      ]
    },
    {
      "cell_type": "code",
      "source": [
        "m = Sequential()\n",
        "m.add(Dense(2,input_dim=2, activation='tanh'))\n",
        "m.add(Dense(12,input_dim=2, activation='tanh'))\n",
        "\n",
        "m.add(Dense(1,activation='sigmoid'))\n",
        "\n",
        "#NAND\n",
        "X = np.array([[0,0],[0,1],[1,0],[1,1]],'float32')\n",
        "Y = np.array([[1],[1],[1],[0]],'float32')\n",
        "\n",
        "m.compile(optimizer='adam',loss='binary_crossentropy')\n",
        "m.fit(X,Y,batch_size=1,epochs=200,verbose=0)\n",
        "print(m.predict(X))"
      ],
      "metadata": {
        "colab": {
          "base_uri": "https://localhost:8080/"
        },
        "id": "0C5xCmKkmV31",
        "outputId": "5ece700f-5c1c-4978-c797-1dbb9cb5ac30"
      },
      "execution_count": 19,
      "outputs": [
        {
          "output_type": "stream",
          "name": "stdout",
          "text": [
            "[[0.8581939 ]\n",
            " [0.5892626 ]\n",
            " [0.85360503]\n",
            " [0.5641337 ]]\n"
          ]
        }
      ]
    },
    {
      "cell_type": "code",
      "source": [
        "from keras.models import Sequential\n",
        "from keras.layers import *\n",
        "import tensorflow as tf\n",
        "import numpy as np\n",
        "tf.Variable\n",
        "\n",
        "m = Sequential()\n",
        "m.add(Dense(2,input_dim=2, activation='tanh'))\n",
        "m.add(Dense(12,input_dim=2, activation='tanh'))\n",
        "#m.add(Activation('tanh'))\n",
        "\n",
        "m.add(Dense(1,activation='sigmoid'))\n",
        "\n",
        "#m.add(Activation('sigmoid'))\n",
        "\n",
        "X = np.array([[0,0],[0,1],[1,0],[1,1],[1,0],[0,1],[1,1],[0,0]],'float32')\n",
        "Y = np.array([[0],[1],[1],[0],[1],[0],[1],[1]],'float32')\n",
        "\n",
        "m.compile(optimizer='adam',loss='binary_crossentropy')\n",
        "m.fit(X,Y,batch_size=1,epochs=200,verbose=0)\n",
        "print(m.predict(X))"
      ],
      "metadata": {
        "colab": {
          "base_uri": "https://localhost:8080/"
        },
        "id": "CoHtE_4MLUAn",
        "outputId": "2a4dbe4f-696b-49b9-eec2-d0fc75042287"
      },
      "execution_count": null,
      "outputs": [
        {
          "output_type": "stream",
          "name": "stdout",
          "text": [
            "[[0.555702  ]\n",
            " [0.46640384]\n",
            " [0.8229134 ]\n",
            " [0.6702832 ]\n",
            " [0.8229134 ]\n",
            " [0.46640384]\n",
            " [0.6702832 ]\n",
            " [0.555702  ]]\n"
          ]
        }
      ]
    },
    {
      "cell_type": "code",
      "source": [
        "from keras.models import Sequential\n",
        "from keras.layers import *\n",
        "import tensorflow as tf\n",
        "import numpy as np\n",
        "tf.Variable\n",
        "\n",
        "m = Sequential()\n",
        "m.add(Dense(2,input_dim=2, activation='tanh'))\n",
        "m.add(Dense(12,input_dim=2, activation='tanh'))\n",
        "#m.add(Activation('tanh'))\n",
        "\n",
        "m.add(Dense(1,activation='sigmoid'))\n",
        "\n",
        "#m.add(Activation('sigmoid'))\n",
        "\n",
        "X = np.array([[0,0],[0,1],[1,0],[1,1],[1,0],[0,1]],'float32')\n",
        "Y = np.array([[0],[1],[1],[0],[1],[0]],'float32')\n",
        "\n",
        "m.compile(optimizer='adam',loss='binary_crossentropy')\n",
        "m.fit(X,Y,batch_size=1,epochs=200,verbose=0)\n",
        "print(m.predict(X))"
      ],
      "metadata": {
        "colab": {
          "base_uri": "https://localhost:8080/"
        },
        "id": "TiavLb36Li4U",
        "outputId": "24cd4b43-773c-4160-ca58-77726d499472"
      },
      "execution_count": null,
      "outputs": [
        {
          "output_type": "stream",
          "name": "stdout",
          "text": [
            "[[0.43738803]\n",
            " [0.2332676 ]\n",
            " [0.7892575 ]\n",
            " [0.37953925]\n",
            " [0.7892575 ]\n",
            " [0.2332676 ]]\n"
          ]
        }
      ]
    }
  ]
}